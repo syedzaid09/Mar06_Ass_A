{
 "cells": [
  {
   "cell_type": "markdown",
   "id": "f11cf085-0d3f-4016-aaa6-4a0f43c8fb81",
   "metadata": {},
   "source": [
    "# Qus 1"
   ]
  },
  {
   "cell_type": "raw",
   "id": "c37370e3-3a32-4501-a0a4-68ff3cc6338b",
   "metadata": {},
   "source": [
    "Statics is the science of collecting , organizing and analyzing data."
   ]
  },
  {
   "cell_type": "raw",
   "id": "b4e835bb-72d7-43f6-be09-059caaf4a02c",
   "metadata": {},
   "source": [
    "# Qus 2"
   ]
  },
  {
   "cell_type": "raw",
   "id": "7739d7c0-8737-4a5e-a9b9-c7288c89c3de",
   "metadata": {},
   "source": [
    "Statistics can broadly be categorized into two main types: descriptive statistics and inferential statistics.\n",
    " 1. Descriptive Statistics:\n",
    " It consist of organizing and summarizing data.\n",
    " Measure of Central Tendency[Mean, Median, Mode].\n",
    " Measure of Dispersion [Variance, std].\n",
    " Different type of Distribution of data eg:Histogram,pdf,pmf.\n",
    " example: Imagine you have collected data on the hrights of students in a classroom.\n",
    " \n",
    " 2. Inferential Statistics:\n",
    " It consists of using data you have measured to form conclusion.\n",
    " z-test\n",
    " t-test\n",
    " chi square\n",
    " example:suppose you are interested in determining whether a new weight loss program is effective.You could conduct a study where you randomly assign participants to either the weight loss program or a control group.\n",
    " "
   ]
  },
  {
   "cell_type": "markdown",
   "id": "9edbd070-a0eb-490a-ad0a-65f8a5349e9c",
   "metadata": {},
   "source": [
    "# Qus 3"
   ]
  },
  {
   "cell_type": "raw",
   "id": "e5594230-cc14-47ce-9794-1755c711e0f4",
   "metadata": {},
   "source": [
    "1. Quantitative Data (Numerical data):\n",
    "    Numerical data represents measurable quantities and is expresses in numbers. It can further be classified into discrete and continuous data.\n",
    "    # Discrete : countable values with specifivc and seprate values .(eg. No. of students in a class, no. of bank account)\n",
    "    # Continuous : Values that can take any value within a given range.(eg. height, weight,temperature)\n",
    "    \n",
    "2.Qualitative Data(Categorical):\n",
    "   Catyegorical data represents discrete and finite categories or distinct groups . this thype of data is qualitive and non-numeric , often used to represent characteristics or attributes.\n",
    "   # Nominal:Colors(Red, Blue, Green),Marital Status(Single, Married,Divorced)\n",
    "   # Ordinal:Educational Level(High School,Bachelor's,Master's)"
   ]
  },
  {
   "cell_type": "markdown",
   "id": "b97a33ad-9654-44b1-b20a-4547c9f2a90d",
   "metadata": {},
   "source": [
    "# Qus 4"
   ]
  },
  {
   "cell_type": "raw",
   "id": "c62be9ff-097b-4f9a-9111-9413e360acb9",
   "metadata": {},
   "source": [
    "1. Qualitative (Categorical)\n",
    "2. Qualitative (Categorical)\n",
    "3. Quantitative (Continuous)\n",
    "4.Quantitative (Discrete)"
   ]
  },
  {
   "cell_type": "markdown",
   "id": "0c2c8970-3883-4479-92c6-8c0fc882cdb1",
   "metadata": {},
   "source": [
    "# Qus 5"
   ]
  },
  {
   "cell_type": "raw",
   "id": "ed9c66e0-52ec-42d4-8360-316080694f4d",
   "metadata": {},
   "source": [
    "it refer to the different ways in which variables can be categorized and measured.\n",
    "There are typically four levels of measurment:\n",
    "1. Nominal Level:\n",
    " * Variables are categorized into distinct groups or categories with no internet    order or ranking among them.\n",
    " * Qualitative/Categorical\n",
    " * eg:-Gender,Color,Labels.\n",
    " * Order does not matter.\n",
    " \n",
    "2. Ordinal Level:\n",
    "  * Variables at the ordinal level have a clear order or ranking , but             intervals between values are not uniform or standardized.\n",
    "  * Ranking id=s important.\n",
    "  * Order Matter.\n",
    "  * Difference cannot be measured. \n",
    "  * eg:Educational Level,Rank in a Race.\n",
    "  \n",
    "3. Interval Level:\n",
    "  * Order Matter.\n",
    "  * Difference can be measured.\n",
    "  * Ratio cannot be measured.\n",
    "  * No \"0\" starting point.\n",
    "  * eg:Temperature in Celsius or Fahrenheit,IQ scores.\n",
    "  \n",
    "4. Ratio Level:\n",
    "  * The order matter.\n",
    "  * Difference are measurable (including ratio).\n",
    "  * Contains a \"0\" starting point.\n",
    "  * eg: Height,Weight,Income.\n",
    "  "
   ]
  },
  {
   "cell_type": "markdown",
   "id": "d5910659-e1e1-4a71-a02c-8003c25086ea",
   "metadata": {},
   "source": [
    "# Qus 6"
   ]
  },
  {
   "cell_type": "raw",
   "id": "0f4b0eea-165a-4a54-8b0b-71004f5ab1c2",
   "metadata": {},
   "source": [
    "Understanding the level of measurment of variables when analyzing data is crucial because it determines the types of statistical analyses and operations that can be appropriately applied to the data. Different levels of mesurement have implications for the mathematical operations that can be performed on the data ,the types of descriptive statistics that can be caculate , and the inferences that can be drawn.\n",
    "\n",
    "Example:\n",
    "1. Level of Measurement- Grade(ordinal):\n",
    " Suppose the variable \"Grade\" is measured at an ordinal level, where grades are categorized as A,B,C,D,F (with A being the highest and F being the lowest). At this level:\n",
    " . we can determine the rank order of grades(e.g.,A>B>C>D>F).\n",
    " . However, the differences between grades(e.g.,the difference between A and B) may not be consistent or meaningful in terms of magnitude.\n",
    " \n",
    "Example:\n",
    "Statistical operations like median and mode can be calculated based on the rank order of grades.\n",
    "However, calculating the mean(average) of grades might not be appropriate because the intervals between grades (e.g.,A to B) are not necessarily equal.\n"
   ]
  },
  {
   "cell_type": "markdown",
   "id": "bd37d008-a9a4-4aeb-8dbc-7c65372d6ba9",
   "metadata": {},
   "source": [
    "# Qus 7"
   ]
  },
  {
   "cell_type": "raw",
   "id": "bdf03572-6052-4935-af63-b9ee30f3ba49",
   "metadata": {},
   "source": [
    "1. Nature of Categories:\n",
    "    Nominal data: Categories are purely labels or names.\n",
    "    Ordinal data: Categories have a meaningful order or rank.\n",
    "\n",
    "2.Order/Ranking:\n",
    "    Nominal data:Categories cannot be ranked or ordered.\n",
    "    Ordinal data:Categories can be ranked or ordered based on some criteria.\n",
    "3.Statistical Operations:\n",
    "    Nominal data:Analyzed using frequency counts,mode, and chi-square tests.\n",
    "    Ordinal data:Analyzed using median , mode, and non-parametric tests that                      don't rely on interval assumptions."
   ]
  },
  {
   "cell_type": "markdown",
   "id": "1700caa7-e8ac-43a7-81ae-eadd101631d1",
   "metadata": {},
   "source": [
    "# Qus 8"
   ]
  },
  {
   "cell_type": "raw",
   "id": "d3427f5e-1441-4667-a297-fd83b8a5fe69",
   "metadata": {},
   "source": [
    "To display data in terms of range, a suitable type of plot that can be used is a Box plot(also known as a box-and-whisker plot).A box plot is particularly effective for showing the distribution of a dataset and highlighting the range, variability, and central tendency of the data."
   ]
  },
  {
   "cell_type": "markdown",
   "id": "e1da7387-ae2b-464a-a9b8-d142e482bfbd",
   "metadata": {},
   "source": [
    "# Qus 9"
   ]
  },
  {
   "cell_type": "raw",
   "id": "e50de91b-abd5-4a2a-8e7d-5f6d38de1f89",
   "metadata": {},
   "source": [
    "# Descriptive Statistics:\n",
    "  Descriptive statistics involve methods used to summarize and describe important features of a dataset.These statistics provide a concise summary of the data , enabling researchers to understand the main characteristics of the dataset without making any conclusions beyond the data itself.\n",
    "  Example:\n",
    "  Suppose we have a dataset containing the heights(in centimeters) of students in a classroom. Descriptive statistics can be used to summarize this dataset by calculating measures such as the mean height, median height,range, and standard deviation.\n",
    "  How Descriptive Statistics are Used:\n",
    "  > Summarize and organize large amounts of data into meaningful measures.\n",
    "  > Provide insights into the central tendency , variability , and shape of a dataset.\n",
    "  > Aid in visualization through graphs and charts.\n",
    "  \n",
    "# Inferential Statistics:\n",
    "Inferential statistics involve methods used to make inferences or predictions about a population based on sample data. These statistics go beyond the immediate data and draw conclusions or make generalizations about a larger group using probability theory.\n",
    "Example:\n",
    "continuing eith our example of student heights,suppose we want to infer the average heights of all students in the school based on the heights of sample of students from one classroom. We can use inferential statistics, such as hypothesis testing and confidence intervals, to determine whether the sample mean height is likely representative of the population mean height.\n",
    "\n",
    "How Inferential Statistics are Used:\n",
    "> Test hypotheses and make predictions about a population based on sample data.\n",
    "> Assess relationships between variables and determine if observed differences are statistically significant.\n",
    ">Provide insights into cause-and-effect relationships through experimental designs and statistical modelling."
   ]
  },
  {
   "cell_type": "markdown",
   "id": "3f02997a-a94a-40a8-a6a0-67112ff12aa4",
   "metadata": {},
   "source": [
    "# Qus 10"
   ]
  },
  {
   "cell_type": "raw",
   "id": "9805731e-07b2-4866-b552-eefa870722e5",
   "metadata": {},
   "source": [
    "# Measures of Central Tendency:\n",
    " 1. Mean:\n",
    "    The mean is calculated as the sum of all values in the dataset divided by the number of observations.\n",
    "    uses:\n",
    "        . describe the typical or average value in the dataset.\n",
    "        . Sensitive to extreme values(outliers) that can skew the mean.\n",
    "        \n",
    "2. Median:\n",
    "    The median is the middle value in a dataset when all values are arranged in ascending order.\n",
    "    If the dataset has an odd number of values, the median is the middle value.\n",
    "    If the dataset has an even number of values, the median is the average of the two middle values.\n",
    "    Use:\n",
    "        .Less affected by extreme values compared to the mean.\n",
    "        .Describes the central value, especially in datasets with skewed distributions.\n",
    "        \n",
    "3.Mode:\n",
    "    The mode is the value that appears most frequently in the dataset.\n",
    "    A dataset can have one mode (unimodal), two modes (bimodal), or more modes (multimodal).\n",
    "    Use:\n",
    "        .Describes the most common or typical value in the dataset.\n",
    "        .Particularly useful for categorical or discrete data.\n",
    "        \n",
    "# Measures of Variability:\n",
    "\n",
    "1.Range:\n",
    "  The range is the difference between the maximum and minimum values in the dataset.\n",
    "  Use:\n",
    "        Provides a simple measure of the spread of data.\n",
    "        Can be influenced by outliers.  \n",
    "\n",
    "2. Variance:\n",
    "    The variance measures the average squared deviation of each data point from the mean.\n",
    "    use:\n",
    "     Quantifies the spread of data around the mean.\n",
    "     Sensitive to outliers due to the squared differences.   \n",
    "        \n",
    "3.Standard Deviation:\n",
    "    The standard deviation is the square root of the variance.\n",
    "Use:\n",
    "Provides a measure of dispersion that is in the same units as the original data.\n",
    "Indicates the typical distance of data points from the mean."
   ]
  },
  {
   "cell_type": "code",
   "execution_count": null,
   "id": "75e65b07-fbc4-41b8-8ed0-ccde1888d333",
   "metadata": {},
   "outputs": [],
   "source": []
  }
 ],
 "metadata": {
  "kernelspec": {
   "display_name": "Python 3 (ipykernel)",
   "language": "python",
   "name": "python3"
  },
  "language_info": {
   "codemirror_mode": {
    "name": "ipython",
    "version": 3
   },
   "file_extension": ".py",
   "mimetype": "text/x-python",
   "name": "python",
   "nbconvert_exporter": "python",
   "pygments_lexer": "ipython3",
   "version": "3.10.8"
  }
 },
 "nbformat": 4,
 "nbformat_minor": 5
}
